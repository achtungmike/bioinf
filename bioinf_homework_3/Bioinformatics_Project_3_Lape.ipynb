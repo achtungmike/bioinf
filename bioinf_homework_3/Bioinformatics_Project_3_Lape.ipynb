{
 "cells": [
  {
   "cell_type": "markdown",
   "metadata": {},
   "source": [
    "### Overview\n",
    "\n",
    "This program will align 2 DNA sequences\n",
    "\n",
    "I will present the Dynamic Programming algorithm that will be implemented.\n",
    "\n",
    "It will utilize the following scoring parameters:\n",
    "    1. Match Premium = 1\n",
    "    2. Mismatch Penalty = -1\n",
    "    3. Gap Penalty = -1\n",
    "    \n",
    "Test by aligning the following 2 sequences:\n",
    "S1 = ATCTGTTCTT\n",
    "S2 = CTTTATGTT\n",
    "\n",
    "I will also test more broadly (these results will be included in the report)\n",
    "\n",
    "Include in directory:\n",
    "    1. Input files\n",
    "    2. PDF Report:\n",
    "        a. Overall Description\n",
    "        b. DP table for S1 and S2 (pathway table)\n",
    "        c. Resulting alignment.\n",
    "\n",
    "\n"
   ]
  }
 ],
 "metadata": {
  "celltoolbar": "Visualize",
  "kernelspec": {
   "display_name": "Python 3",
   "language": "python",
   "name": "python3"
  },
  "language_info": {
   "codemirror_mode": {
    "name": "ipython",
    "version": 3
   },
   "file_extension": ".py",
   "mimetype": "text/x-python",
   "name": "python",
   "nbconvert_exporter": "python",
   "pygments_lexer": "ipython3",
   "version": "3.6.3"
  },
  "varInspector": {
   "cols": {
    "lenName": 16,
    "lenType": 16,
    "lenVar": 40
   },
   "kernels_config": {
    "python": {
     "delete_cmd_postfix": "",
     "delete_cmd_prefix": "del ",
     "library": "var_list.py",
     "varRefreshCmd": "print(var_dic_list())"
    },
    "r": {
     "delete_cmd_postfix": ") ",
     "delete_cmd_prefix": "rm(",
     "library": "var_list.r",
     "varRefreshCmd": "cat(var_dic_list()) "
    }
   },
   "types_to_exclude": [
    "module",
    "function",
    "builtin_function_or_method",
    "instance",
    "_Feature"
   ],
   "window_display": false
  }
 },
 "nbformat": 4,
 "nbformat_minor": 2
}
