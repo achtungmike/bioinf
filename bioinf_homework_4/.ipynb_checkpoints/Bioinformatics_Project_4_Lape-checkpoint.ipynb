{
 "cells": [
  {
   "cell_type": "markdown",
   "metadata": {},
   "source": [
    "Using 3 protein families (globins, C2H2 zinc fingers, cytochromes P450) build a training set consisting of 10 representative proteins with known structures in each family. \n",
    "\n",
    "1. Using cross-validation, train and validate \n",
    "    a k-NN predictor \n",
    "        that takes amino acid sequence as input \n",
    "            and assigns one of the 3 secondary structure states to each amino acid \n",
    "                residue: helix, strand, coil. \n",
    "                    Use a sliding window (of some length) \n",
    "                        to define feature vectors for each amino acid residues, \n",
    "                            compare a simple binary vector \n",
    "                                to Blosum62 feature vector"
   ]
  },
  {
   "cell_type": "code",
   "execution_count": 130,
   "metadata": {},
   "outputs": [],
   "source": [
    "import pandas as pd\n",
    "import numpy as np"
   ]
  },
  {
   "cell_type": "code",
   "execution_count": 131,
   "metadata": {},
   "outputs": [],
   "source": [
    "# read secondary struct file\n",
    "sec = open(\"data/ss.txt\",\"r\").readlines()"
   ]
  },
  {
   "cell_type": "code",
   "execution_count": 132,
   "metadata": {},
   "outputs": [],
   "source": [
    "# blosum62 dict\n",
    "blos = {'A': [4, -1, -2, -2, 0, -1, -1, 0, -2, -1, -1, -1, -1, -2, -1, 1, 0, -3, -2, 0],\n",
    "        'R': [-1, 5, 0, -2, -3, 1, 0, -2, 0, -3, -2, 2, -1, -3, -2, -1, -1, -3, -2, -3],\n",
    "        'N': [-2, 0, 6, 1, -3, 0, 0, 0, 1, -3, -3, 0, -2, -3, -2, 1, 0, -4, -2, -3],\n",
    "        'D': [-2, -2, 1, 6, -3, 0, 2, -1, -1, -3, -4, -1, -3, -3, -1, 0, -1, -4, -3, -3, ],\n",
    "        'C': [0, -3, -3, -3, 9, -3, -4, -3, -3, -1, -1, -3, -1, -2, -3, -1, -1, -2, -2, -1, ],\n",
    "        'Q': [-1, 1, 0, 0, -3, 5, 2, -2, 0, -3, -2, 1, 0, -3, -1, 0, -1, -2, -1, -2, ],\n",
    "        'E': [-1, 0, 0, 2, -4, 2, 5, -2, 0, -3, -3, 1, -2, -3, -1, 0, -1, -3, -2, -2, ],\n",
    "        'G': [0, -2, 0, -1, -3, -2, -2, 6, -2, -4, -4, -2, -3, -3, -2, 0, -2, -2, -3, -3, ],\n",
    "        'H': [-2, 0, 1, -1, -3, 0, 0, -2, 8, -3, -3, -1, -2, -1, -2, -1, -2, -2, 2, -3, ],\n",
    "        'I': [-1, -3, -3, -3, -1, -3, -3, -4, -3, 4, 2, -3, 1, 0, -3, -2, -1, -3, -1, 3, ],\n",
    "        'L': [-1, -2, -3, -4, -1, -2, -3, -4, -3, 2, 4, -2, 2, 0, -3, -2, -1, -2, -1, 1, ],\n",
    "        'K': [-1, 2, 0, -1, -3, 1, 1, -2, -1, -3, -2, 5, -1, -3, -1, 0, -1, -3, -2, -2, ],\n",
    "        'M': [-1, -1, -2, -3, -1, 0, -2, -3, -2, 1, 2, -1, 5, 0, -2, -1, -1, -1, -1, 1, ],\n",
    "        'F': [-2, -3, -3, -3, -2, -3, -3, -3, -1, 0, 0, -3, 0, 6, -4, -2, -2, 1, 3, -1, ],\n",
    "        'P': [-1, -2, -2, -1, -3, -1, -1, -2, -2, -3, -3, -1, -2, -4, 7, -1, -1, -4, -3, -2, ],\n",
    "        'S': [1, -1, 1, 0, -1, 0, 0, 0, -1, -2, -2, 0, -1, -2, -1, 4, 1, -3, -2, -2, ],\n",
    "        'T': [0, -1, 0, -1, -1, -1, -1, -2, -2, -1, -1, -1, -1, -2, -1, 1, 5, -2, -2, 0, ],\n",
    "        'W': [-3, -3, -4, -4, -2, -2, -3, -2, -2, -3, -2, -3, -1, 1, -4, -3, -2, 11, 2, -3, ],\n",
    "        'Y': [-2, -2, -2, -3, -2, -1, -2, -3, 2, -1, -1, -2, -1, 3, -3, -2, -2, 2, 7, -1, ],\n",
    "        'V': [0, -3, -3, -3, -1, -2, -2, -3, -3, 3, 1, -2, 1, -1, -2, -2, 0, -3, -1, 4, ]}"
   ]
  },
  {
   "cell_type": "code",
   "execution_count": 133,
   "metadata": {},
   "outputs": [],
   "source": [
    "# Pull list of PDBs from Excel file\n",
    "# Input:\n",
    "#     sheet_name: Sheet name that the list of PDBs are in that you want\n",
    "# Ouput:\n",
    "#     ret: List of PDBs found in that Excel file on specified sheet\n",
    "def get_pdb(sheet_name):\n",
    "    pdbs = pd.read_excel(\"data/pdbs.xlsx\",sheetname=sheet_name,header=None)\n",
    "    ret = list(pdbs[0])\n",
    "    return(ret)"
   ]
  },
  {
   "cell_type": "code",
   "execution_count": 134,
   "metadata": {},
   "outputs": [],
   "source": [
    "# Pull the full seq or secondary struct from secondary structure file\n",
    "# Input:\n",
    "#     ind: index within ss_file for seq or sec struct you want to pull\n",
    "#     ss_file: a ss.txt from RSCB PDB read into python via readlines().\n",
    "# Ouput:\n",
    "#     txt: Full sequence or secondary structure found at index given in ss.txt\n",
    "def pull_full_text(ind, ss_file):\n",
    "    #ind is the index in the file where we start from\n",
    "\n",
    "    txt = \"\"\n",
    "\n",
    "    # skip the first line which contains the seq marker >\n",
    "    ind += 1\n",
    "    # Get current line and strip off new line\n",
    "    tmp = ss_file[ind]\n",
    "    tmp = tmp.strip('\\n')\n",
    "    # Until we hit another Seq tag (>)\n",
    "    while \">\" not in tmp:\n",
    "        # We ran off the end of the file, break\n",
    "        if ind == len(ss_file) - 1:\n",
    "            break\n",
    "        # append string here to txt removing the new line\n",
    "        txt += tmp\n",
    "\n",
    "        # Update index and tmp for next loop\n",
    "        ind += 1\n",
    "        tmp = ss_file[ind]\n",
    "        tmp = tmp.strip('\\n')\n",
    "    return(txt)"
   ]
  },
  {
   "cell_type": "code",
   "execution_count": 135,
   "metadata": {},
   "outputs": [],
   "source": [
    "# Translate secondary structure into more simple form use in this project of\n",
    "# Coil, Helix, or Extended (beta sheet)\n",
    "# Input:\n",
    "#     ss_str: secondary structure str of more complex form (used by RSCB PDB)\n",
    "# Ouput:\n",
    "#     ret: simplified secondary structure str with just c's, h's, and e's.\n",
    "def trans_ss(ss_str):\n",
    "    ret = \"\"\n",
    "    for x in range(len(ss_str)):\n",
    "        if ss_str[x] in [' ', 'S','T']:\n",
    "            ret += 'c'\n",
    "        elif ss_str[x] in ['G', 'I', 'H']:\n",
    "            ret += 'h'\n",
    "        elif ss_str[x] in ['B']:\n",
    "            ret += 'e'\n",
    "\n",
    "    return(ret)"
   ]
  },
  {
   "cell_type": "code",
   "execution_count": 136,
   "metadata": {},
   "outputs": [],
   "source": [
    "# Get index of our sequence and our secondary structure for this PDB\n",
    "# Input:\n",
    "#     pdb: PDB identifier with chain in the form of 2AGV:A\n",
    "#     sec: a ss.txt from RSCB PDB read into python via readlines().\n",
    "# Ouput:\n",
    "#     ret: index of sequnce id tag and secondary structure tag in the ss.txt file input.\n",
    "def get_ind(pdb, sec):\n",
    "    for x in range(len(sec)):\n",
    "        # We have a match on sequence\n",
    "        if(pdb + \":sequence\" in sec[x]):\n",
    "            seq_ind = x\n",
    "        # We have a match secondary structure\n",
    "        elif(pdb + \":secstr\" in sec[x]):\n",
    "            ss_ind = x\n",
    "\n",
    "    return(seq_ind, ss_ind)"
   ]
  },
  {
   "cell_type": "code",
   "execution_count": 137,
   "metadata": {},
   "outputs": [],
   "source": [
    "# Helper function to actually generate the binary vector for a given residue\n",
    "# Input:\n",
    "#     res: amino acid residue identified by capital single letter code.\n",
    "# Ouput:\n",
    "#     ret: list matching aa defined in this function where all residues that\n",
    "#          do not match input residue become a 0 and the one that does match \n",
    "#       becomes a 1.  Order is maintained.\n",
    "def binarize(res):\n",
    "    aa = ['A', 'C', 'D', 'E', 'F', 'G', 'H', 'I', 'K', 'L', 'M',\n",
    "          'N', 'P', 'Q', 'R', 'S', 'T', 'V', 'W', 'Y']\n",
    "    ret = []\n",
    "    for x in aa:\n",
    "        if x == res:\n",
    "            ret.append(1)\n",
    "        else:\n",
    "            ret.append(0)\n",
    "\n",
    "    return(ret)"
   ]
  },
  {
   "cell_type": "code",
   "execution_count": 138,
   "metadata": {},
   "outputs": [],
   "source": [
    "# Create feature vector representation for sequences\n",
    "# Input:\n",
    "#     seq: string representing full AA sequence of interest\n",
    "#     window: Sliding window of interest (should be an odd number).\n",
    "#     method: Can use binary vector or blosum62 to represent residues\n",
    "#             method = 0: binary vector representation\n",
    "#             method = 1: blosum62 vector representation\n",
    "# Ouput:\n",
    "#     seq_vec: list of length(sec) with a representation of type == method\n",
    "#               for each residue in input residue, order is maintained.\n",
    "def vectorize(seq, window, method):\n",
    "    # Stream (up or down stream) window // 2 (we want int division)\n",
    "    stream = window // 2\n",
    "\n",
    "    # Method of feature definition, currently supported binary\n",
    "    # or blosum62\n",
    "    # 0 = binary\n",
    "    # 1 = blosum62\n",
    "\n",
    "\n",
    "    # We need 2 arrays\n",
    "    # curr_res_vec: temp one that will hold each residue as we\n",
    "    #               work on it. [1 row, 20 AA * window columns]\n",
    "    # seq_vec: we will append the curr_res_vec one onto after\n",
    "    #               we are done proc it. [1 row, 20 AA * window columns]\n",
    "    curr_res_vec = np.empty((0, 20 * window), int)\n",
    "    seq_vec = np.empty((0, 20 * window), int)\n",
    "\n",
    "    for idx, val in enumerate(seq):\n",
    "        # empty out the array\n",
    "        curr_res_vec = np.empty((0, 20 * window), int)\n",
    "\n",
    "        # Get list of other residues inside window of our current residue being considered\n",
    "        winds = [idx]\n",
    "        # Below\n",
    "        winds += range(idx - stream, idx, 1)\n",
    "        # Above\n",
    "        winds += range(idx + 1, idx + stream + 1, 1)\n",
    "\n",
    "        # We need to loop through all these guys in our window\n",
    "        for x in winds:\n",
    "            # check if x is outside of our sequence to pad the neighborhood if it is!\n",
    "            if x >= len(seq) or x < 0:\n",
    "                # Pad all 0's\n",
    "                curr_res_vec = np.append(curr_res_vec, np.zeros(20))\n",
    "            else:\n",
    "                res = seq[x]\n",
    "\n",
    "                if method == 0:\n",
    "                    # create binary vector using aa vector\n",
    "                    curr_res_vec = np.append(curr_res_vec, binarize(res))\n",
    "                elif method == 1:\n",
    "                    curr_res_vec = np.append(curr_res_vec, blos[res])\n",
    "                else:\n",
    "                    raise ValueError('method needs to be 0 for binary or 1 for blosum62, not %s as you entered!' % str(method))\n",
    "        # Moving onto next residue so append our results for this one to\n",
    "        # our seq_vec\n",
    "        seq_vec = np.vstack((seq_vec, curr_res_vec))\n",
    "\n",
    "    return(seq_vec)\n"
   ]
  },
  {
   "cell_type": "code",
   "execution_count": 140,
   "metadata": {},
   "outputs": [
    {
     "name": "stdout",
     "output_type": "stream",
     "text": [
      "     name                                                seq  \\\n",
      "0  1Q1F:A  MERPESELIRQSWRVVSRSPLEHGTVLFARLFALEPSLLPLFQYNG...   \n",
      "1  1OJ6:A  MERPEPELIRQSWRAVSRSPLEHGTVLFARLFALEPDLLPLFQYNG...   \n",
      "2  2ZFB:B  VHWSAEEKQLITGLWGKVNVAECGAEALARLLIVYPWTQRFFTSFG...   \n",
      "3  1HBR:B  VHWTAEEKQLITGLWGKVNVAECGAEALARLLIVYPWTQRFFASFG...   \n",
      "4  2QMB:B  VHWSAEEKQLITGLWGKVNVADCGAEALARLLIVYPWTQRFFASFG...   \n",
      "5  2R80:B  VHWSAEEKQLITSIWGKVNVADCGAEALARLLIVYPWTQRFFSSFG...   \n",
      "6  3AT5:B  SDFTQEERQFIVNLWGRVDVEQIGAEALARLLIVYPWTQRFFSSFG...   \n",
      "7  3EOK:B  VHWTAEEKQLITGLWGKVNVADCGAEALARLLIVYPWTQRFFASFG...   \n",
      "8  1V5H:A  GSHMEKVPGEMEIERRERSEELSEAERKAVQAMWARLYANCEDVGV...   \n",
      "9  3WR1:B  VHWTAEEKQLITGLWGKVNVAECGAEALARLLIVYPWTQRFFASFG...   \n",
      "\n",
      "                                                 sec  \\\n",
      "0  ccccchhhhhhhhhhhhcchhhhhhhhhhhhhhhchhhhhhccecc...   \n",
      "1  ccccchhhhhhhhhhhhcchhhhhhhhhhhhhhhchhhhhhccccc...   \n",
      "2  cccchhhhhhhhhhhcccchhhhhhhhhhhhhhhchhhhhhhhhhc...   \n",
      "3  cccchhhhhhhhhhhcccchhhhhhhhhhhhhhhchhhhhhhhhhc...   \n",
      "4  cccchhhhhhhhhhhhccchhhhhhhhhhhhhhhchhhhhhhhhhc...   \n",
      "5  cccchhhhhhhhhhhhhcchhhhhhhhhhhhhhhchhhhhhhhhhc...   \n",
      "6  cccchhhhhhhhhhhhccchhhhhhhhhhhhhhhchhhhhhchhhc...   \n",
      "7  cccchhhhhhhhhhhhhcchhhhhhhhhhhhhhhchhhhhhhhhhc...   \n",
      "8  ccccccccccccccccccccccccchhhhhhhhhhhhcccccchhh...   \n",
      "9  cccchhhhhhhhhhhhccchhhhhhhhhhhhhhhchhhhhhhhhhc...   \n",
      "\n",
      "                                                vect  \n",
      "0  [[0.0, 0.0, 0.0, 0.0, 0.0, 0.0, 0.0, 0.0, 0.0,...  \n",
      "1  [[0.0, 0.0, 0.0, 0.0, 0.0, 0.0, 0.0, 0.0, 0.0,...  \n",
      "2  [[0.0, 0.0, 0.0, 0.0, 0.0, 0.0, 0.0, 0.0, 0.0,...  \n",
      "3  [[0.0, 0.0, 0.0, 0.0, 0.0, 0.0, 0.0, 0.0, 0.0,...  \n",
      "4  [[0.0, 0.0, 0.0, 0.0, 0.0, 0.0, 0.0, 0.0, 0.0,...  \n",
      "5  [[0.0, 0.0, 0.0, 0.0, 0.0, 0.0, 0.0, 0.0, 0.0,...  \n",
      "6  [[0.0, 0.0, 0.0, 0.0, 0.0, 0.0, 0.0, 0.0, 0.0,...  \n",
      "7  [[0.0, 0.0, 0.0, 0.0, 0.0, 0.0, 0.0, 0.0, 0.0,...  \n",
      "8  [[0.0, 0.0, 0.0, 0.0, 0.0, 1.0, 0.0, 0.0, 0.0,...  \n",
      "9  [[0.0, 0.0, 0.0, 0.0, 0.0, 0.0, 0.0, 0.0, 0.0,...  \n"
     ]
    }
   ],
   "source": [
    "# Command and Control (main)\n",
    "# Create DF to hold out work:\n",
    "# First do Neuro:\n",
    "#   Get the PDB codes from the Excel doc\n",
    "#   Find these PDBs in ss.txt and get their indices\n",
    "#   Pull the full sequence and full secondary struct\n",
    "#   Translate the secondary structure\n",
    "#   Store all of this in our DF\n",
    "#   Vectorize our sequence\n",
    "\n",
    "# Now ready to run our CV and k-NN\n",
    "\n",
    "\n",
    "keep = pd.DataFrame(columns=['name','seq','sec', 'vect'])\n",
    "\n",
    "tmp = get_pdb(\"neuro\")\n",
    "\n",
    "for pdb in tmp:\n",
    "    inds = get_ind(pdb,sec)\n",
    "    seq_ind = inds[0]\n",
    "    ss_ind = inds[1]\n",
    "    seq = pull_full_text(seq_ind, sec)\n",
    "    ss = pull_full_text(ss_ind, sec)\n",
    "    ss = trans_ss(ss)\n",
    "\n",
    "    vec = vectorize(seq, 5, 0)\n",
    "    keep = keep.append({'name': pdb, 'seq': seq,'sec': ss, 'vect': vec}, pdb)\n",
    "\n",
    "\n",
    "\n",
    "\n",
    "print(keep)"
   ]
  },
  {
   "cell_type": "code",
   "execution_count": 8,
   "metadata": {},
   "outputs": [
    {
     "ename": "IndentationError",
     "evalue": "unexpected indent (<ipython-input-8-89f8d13a585a>, line 11)",
     "output_type": "error",
     "traceback": [
      "\u001b[1;36m  File \u001b[1;32m\"<ipython-input-8-89f8d13a585a>\"\u001b[1;36m, line \u001b[1;32m11\u001b[0m\n\u001b[1;33m    nn = NearestNeighbors(n_neighbors = neb, metric = metric)\u001b[0m\n\u001b[1;37m    ^\u001b[0m\n\u001b[1;31mIndentationError\u001b[0m\u001b[1;31m:\u001b[0m unexpected indent\n"
     ]
    }
   ],
   "source": [
    "from sklearn.neighbors import NearestNeighbors\n",
    "from sklearn import model_selection\n",
    "metrics = ['euclidean', 'manhattan', 'chebyshev', 'canberra', 'braycurtis' ]\n",
    "nebs = list(range(3,15,2))\n",
    "\n",
    "# Need to test each metric and each number of neighbors\n",
    "for metric in metrics:\n",
    "    print(\"Testing metric: \", metric)\n",
    "    for neb in nebs:\n",
    "        print(\"Testing neb: \", neb)\n",
    "            nn = NearestNeighbors(n_neighbors = neb, metric = metric)\n",
    "            cv = KFold(10, True)\n",
    "            "
   ]
  },
  {
   "cell_type": "code",
   "execution_count": 7,
   "metadata": {},
   "outputs": [
    {
     "name": "stdout",
     "output_type": "stream",
     "text": [
      "[3, 5, 7, 9, 11, 13]\n"
     ]
    }
   ],
   "source": [
    "print(nebs)"
   ]
  }
 ],
 "metadata": {
  "celltoolbar": "Visualize",
  "kernelspec": {
   "display_name": "Python 3",
   "language": "python",
   "name": "python3"
  },
  "language_info": {
   "codemirror_mode": {
    "name": "ipython",
    "version": 3
   },
   "file_extension": ".py",
   "mimetype": "text/x-python",
   "name": "python",
   "nbconvert_exporter": "python",
   "pygments_lexer": "ipython3",
   "version": "3.6.3"
  },
  "varInspector": {
   "cols": {
    "lenName": 16,
    "lenType": 16,
    "lenVar": 40
   },
   "kernels_config": {
    "python": {
     "delete_cmd_postfix": "",
     "delete_cmd_prefix": "del ",
     "library": "var_list.py",
     "varRefreshCmd": "print(var_dic_list())"
    },
    "r": {
     "delete_cmd_postfix": ") ",
     "delete_cmd_prefix": "rm(",
     "library": "var_list.r",
     "varRefreshCmd": "cat(var_dic_list()) "
    }
   },
   "types_to_exclude": [
    "module",
    "function",
    "builtin_function_or_method",
    "instance",
    "_Feature"
   ],
   "window_display": false
  }
 },
 "nbformat": 4,
 "nbformat_minor": 2
}
